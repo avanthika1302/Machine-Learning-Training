{
 "cells": [
  {
   "cell_type": "code",
   "execution_count": 1,
   "metadata": {
    "collapsed": true
   },
   "outputs": [],
   "source": [
    "#==============================================================================\n",
    "# Import libraries\n",
    "#==============================================================================\n",
    "import numpy as np\n",
    "import matplotlib.pyplot as plt\n",
    "import pandas as pd\n",
    "\n"
   ]
  },
  {
   "cell_type": "code",
   "execution_count": 2,
   "metadata": {
    "collapsed": true
   },
   "outputs": [],
   "source": [
    "#==============================================================================\n",
    "# imort the dataset of Home Buyers prices\n",
    "#==============================================================================\n",
    "\n",
    "flatdata = pd.read_csv ('HomeBuyer.csv')\n",
    "X = flatdata.iloc [:,[0,1]].values\n",
    "y = flatdata.iloc [:,2].values"
   ]
  },
  {
   "cell_type": "code",
   "execution_count": 3,
   "metadata": {},
   "outputs": [
    {
     "name": "stderr",
     "output_type": "stream",
     "text": [
      "C:\\Users\\armando_galeana\\AppData\\Local\\Continuum\\Anaconda3\\lib\\site-packages\\sklearn\\cross_validation.py:44: DeprecationWarning: This module was deprecated in version 0.18 in favor of the model_selection module into which all the refactored classes and functions are moved. Also note that the interface of the new CV iterators are different from that of this module. This module will be removed in 0.20.\n",
      "  \"This module will be removed in 0.20.\", DeprecationWarning)\n"
     ]
    }
   ],
   "source": [
    "#==============================================================================\n",
    "# split the dataset into training and test set. We will use 75/25 approach\n",
    "#==============================================================================\n",
    "\n",
    "from sklearn.cross_validation import train_test_split\n",
    "X_train, X_test, y_train, y_test = train_test_split (X, y, test_size = 1/4, \n",
    "                                                     random_state = 0)"
   ]
  },
  {
   "cell_type": "code",
   "execution_count": 4,
   "metadata": {},
   "outputs": [
    {
     "name": "stderr",
     "output_type": "stream",
     "text": [
      "C:\\Users\\armando_galeana\\AppData\\Local\\Continuum\\Anaconda3\\lib\\site-packages\\sklearn\\utils\\validation.py:429: DataConversionWarning: Data with input dtype int64 was converted to float64 by StandardScaler.\n",
      "  warnings.warn(msg, _DataConversionWarning)\n"
     ]
    }
   ],
   "source": [
    "#==============================================================================\n",
    "# Feature scalling \n",
    "#==============================================================================\n",
    "\n",
    "from sklearn.preprocessing import StandardScaler\n",
    "independent_scalar = StandardScaler()\n",
    "X_train = independent_scalar.fit_transform (X_train) #fit and transform\n",
    "X_test = independent_scalar.transform (X_test) # only transform"
   ]
  },
  {
   "cell_type": "code",
   "execution_count": 5,
   "metadata": {},
   "outputs": [
    {
     "data": {
      "text/plain": [
       "LogisticRegression(C=1.0, class_weight=None, dual=False, fit_intercept=True,\n",
       "          intercept_scaling=1, max_iter=100, multi_class='ovr', n_jobs=1,\n",
       "          penalty='l2', random_state=0, solver='liblinear', tol=0.0001,\n",
       "          verbose=0, warm_start=False)"
      ]
     },
     "execution_count": 5,
     "metadata": {},
     "output_type": "execute_result"
    }
   ],
   "source": [
    "#==============================================================================\n",
    "# Fit the Logistic regression to the train data. Logistic regression is a \n",
    "# linear classifier after which the data is divided by a straight line.\n",
    "#==============================================================================\n",
    "from sklearn.linear_model import LogisticRegression\n",
    "LRClassifier = LogisticRegression (random_state = 0)\n",
    "LRClassifier.fit (X_train, y_train)"
   ]
  },
  {
   "cell_type": "code",
   "execution_count": 6,
   "metadata": {
    "collapsed": true
   },
   "outputs": [],
   "source": [
    "#==============================================================================\n",
    "# Predict the values \n",
    "#==============================================================================\n",
    "\n",
    "prediction = LRClassifier.predict (X_test)\n"
   ]
  },
  {
   "cell_type": "code",
   "execution_count": 7,
   "metadata": {},
   "outputs": [
    {
     "name": "stdout",
     "output_type": "stream",
     "text": [
      "[[65  3]\n",
      " [ 8 24]]\n"
     ]
    }
   ],
   "source": [
    "#==============================================================================\n",
    "# Create confusion matrix to evaluate performance of data\n",
    "#==============================================================================\n",
    "from sklearn.metrics import confusion_matrix\n",
    "confusionMatrix = confusion_matrix (y_test, prediction)\n",
    "\n",
    "print(confusionMatrix)\n",
    "\n"
   ]
  },
  {
   "cell_type": "code",
   "execution_count": 8,
   "metadata": {},
   "outputs": [
    {
     "name": "stdout",
     "output_type": "stream",
     "text": [
      "[[  5.31793363e-08   5.37693571e-08   5.43659241e-08 ...,   3.17626301e-03\n",
      "    3.21139025e-03   3.24690469e-03]\n",
      " [  5.42871110e-08   5.48894224e-08   5.54984164e-08 ...,   3.24221299e-03\n",
      "    3.27806718e-03   3.31431655e-03]\n",
      " [  5.54179616e-08   5.60328197e-08   5.66544997e-08 ...,   3.30952776e-03\n",
      "    3.34612386e-03   3.38312326e-03]\n",
      " ..., \n",
      " [  9.78235714e-01   9.78469395e-01   9.78700622e-01 ...,   9.99999629e-01\n",
      "    9.99999633e-01   9.99999637e-01]\n",
      " [  9.78670360e-01   9.78899475e-01   9.79126182e-01 ...,   9.99999636e-01\n",
      "    9.99999640e-01   9.99999644e-01]\n",
      " [  9.79096511e-01   9.79321145e-01   9.79543416e-01 ...,   9.99999644e-01\n",
      "    9.99999648e-01   9.99999651e-01]]\n"
     ]
    },
    {
     "data": {
      "text/plain": [
       "[(-5, 5),\n",
       " <matplotlib.text.Text at 0x2117b835710>,\n",
       " (-5, 5),\n",
       " <matplotlib.text.Text at 0x2117b7ff0f0>,\n",
       " None]"
      ]
     },
     "execution_count": 8,
     "metadata": {},
     "output_type": "execute_result"
    }
   ],
   "source": [
    "#==============================================================================\n",
    "# let us visualize it\n",
    "#==============================================================================\n",
    "    \n",
    "xx, yy = np.mgrid[-5:5:.01, -5:5:.01]\n",
    "grid = np.c_[xx.ravel(), yy.ravel()]\n",
    "probs = LRClassifier.predict_proba(grid)[:, 1].reshape(xx.shape)\n",
    "\n",
    "print(probs)\n",
    "\n",
    "f, ax = plt.subplots(figsize=(8, 6))\n",
    "contour = ax.contourf(xx, yy, probs, 25, cmap=\"RdBu\",\n",
    "                      vmin=0, vmax=1)\n",
    "ax_c = f.colorbar(contour)\n",
    "ax_c.set_label(\"$P(y = 1)$\")\n",
    "ax_c.set_ticks([0, .25, .5, .75, 1])\n",
    "\n",
    "ax.scatter(X_test[:, 0], X_test[:, 1],c = (y_test == 1 ), s=50,\n",
    "           cmap=\"RdBu\", vmin=-.2, vmax=1.2,\n",
    "           edgecolor=\"white\", linewidth=1)\n",
    "\n",
    "ax.set(aspect=\"equal\",\n",
    "       xlim=(-5, 5), ylim=(-5, 5),\n",
    "       xlabel=\"$X_1$\", ylabel=\"$X_2$\")"
   ]
  },
  {
   "cell_type": "code",
   "execution_count": 9,
   "metadata": {},
   "outputs": [
    {
     "data": {
      "image/png": "[encoded data removed]",
      "text/plain": [
       "<matplotlib.figure.Figure at 0x21177b4c7f0>"
      ]
     },
     "metadata": {},
     "output_type": "display_data"
    }
   ],
   "source": [
    "#==============================================================================\n",
    "# So now let us visualize the Test set\n",
    "#==============================================================================\n",
    "plt.show()"
   ]
  },
  {
   "cell_type": "code",
   "execution_count": null,
   "metadata": {
    "collapsed": true
   },
   "outputs": [],
   "source": []
  }
 ],
 "metadata": {
  "kernelspec": {
   "display_name": "Python 3",
   "language": "python",
   "name": "python3"
  },
  "language_info": {
   "codemirror_mode": {
    "name": "ipython",
    "version": 3
   },
   "file_extension": ".py",
   "mimetype": "text/x-python",
   "name": "python",
   "nbconvert_exporter": "python",
   "pygments_lexer": "ipython3",
   "version": "3.6.1"
  }
 },
 "nbformat": 4,
 "nbformat_minor": 2
}
